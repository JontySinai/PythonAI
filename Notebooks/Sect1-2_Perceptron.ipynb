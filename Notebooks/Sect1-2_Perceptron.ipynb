{
 "cells": [
  {
   "cell_type": "markdown",
   "metadata": {},
   "source": [
    "# Exploring Artificial Intelligence\n",
    "\n",
    "*See accompanying blogpost [here](https://jontysinai.github.io/jekyll/update/2017/11/11/the-perceptron.html)*\n",
    "\n",
    "A foray into artificial intelligence, with the help of math, history and Python.  \n",
    "by _Jonty Sinai_\n",
    "\n",
    "\n",
    "## Section 1: Foundations of Machine Learning\n",
    "## Part 2: The Perceptron\n",
    "\n",
    "We will explore an evolution of the MCP Neuron, discussed in Part 1, artificial neuron known as the Perceptron, which was introduced by the psychologist Frank Rosenblatt in 1957. The Perceptron extended the MCP Neuron model by incorporating a simple learning algorithm, which could learn a set of weights, instead of having to pre-programme the weights.\n",
    "\n",
    "### Reminder: The MCP Neuron\n",
    "\n",
    "As a reminder, recall the mathematical model of the MCP Neuron:\n",
    "\n",
    "![](../Assets/mcp-neuron-graph.png)\n",
    "\n",
    "* $m$ binary input signals, $\\ x_1, x_2, ..., x_m \\in \\{0,1\\}$.\n",
    "* A set of binary _weights_ for each input, $\\ w_1, w_2, ..., w_m \\in \\{-1,0,1\\}$.\n",
    "* An _activation function_, $\\ f:\\{0,1\\}^{m} \\to \\{0,1\\}$.\n",
    "* A threshold value; an integer $\\ t \\in \\mathbb{Z}^{*}$.\n",
    "* An output signal, $\\ y \\in \\{0,1\\}$, such that $\\ y = f(x_1, x_2, ..., x_m)$\n",
    "\n",
    "For the MCP Neuron, the activation function was the *Heaviside step function*:\n",
    "\n",
    "$$\n",
    "y = \\left\\{\n",
    "\\begin{array}{l}\n",
    "1, \\ \\text{if} \\ \\sum_{i=1}^{m}w_{i}x_{i} \\geq t,\\\\[3pt]\n",
    "0, \\ \\text{otherwise}\n",
    "\\end{array}\n",
    "\\right.\n",
    "$$"
   ]
  },
  {
   "cell_type": "markdown",
   "metadata": {},
   "source": [
    "### The Perceptron Model\n",
    "\n",
    "The Perceptron extends the MCP Neuron model above, first by allowing the input signals and weights to take values in $\\ \\mathbb{R}^m$. The output signals are still, for the moment, binary, but taking value $\\ y \\in \\{-1,1\\}$, instead of from $\\ \\{0,1\\}$. This is a minor detail which we make for computational convenience. \n",
    "\n",
    "The significant change, however, is the incorporation of a *learning algorithm* to learn the weights. In particular, the Perceptron is a supervised learning problem where we have *training data* with the correct input and output values. If there are $N$ *training examples*, then our training data takes the form:\n",
    "\n",
    "$$\n",
    "\\ (\\mathbf{x}_n, y_n) \\in \\mathbb{R}^{m}\\times\\{-1,1\\}, \\ \\ \\forall \\ n = 1,2, ..., N\n",
    "$$. \n",
    "\n",
    "For a given training example, $\\ \\mathbf{x}_n$, a *prediction* is made using the Heaviside step function, as before.\n",
    "\n",
    "Then the learning algorithm is follows:\n",
    "\n",
    "1. Initialise the weights vector, $\\ \\mathbf{w}$ either to zero or with random, small values.\n",
    "2. For $\\ n = 1,2, ..., N$:\n",
    "    1. Calculate the predicted label for $\\ \\mathbf{x}_n$ using $\\ \\mathbf{w}$:\n",
    "    \n",
    "    $$\n",
    "    \\hat{y_n} = \\left\\{\n",
    "    \\begin{array}{l}\n",
    "        1, \\ \\text{if} \\ \\mathbf{w}^T\\mathbf{x}_n \\geq t,\\\\[3pt]\n",
    "        -1, \\ \\text{otherwise}\n",
    "    \\end{array}\n",
    "    \\right.\n",
    "    $$\n",
    "    \n",
    "    2. Update the weights vector using the *update rule*:\n",
    "    \n",
    "    $$\n",
    "    \\mathbf{w} := \\mathbf{w} + \\Delta\\mathbf{w}\n",
    "    $$\n",
    "    \n",
    "    where \n",
    "    \n",
    "    $$\n",
    "    \\Delta\\mathbf{w} = \\alpha(y_n - \\hat{y_n})\\mathbf{x}_n\n",
    "    $$\n",
    "    \n",
    "    The parameter $\\alpha > 0$ is called the *learning rate* and controls the sensitivity of the updates to incorrect predictions. For more on the intuition behind the learning rate, see the accompanying blogpost.\n",
    "    \n",
    "[Image of the Perceptron model here]\n",
    "\n",
    "As a technical note, the decision boundary of the hyperplane $\\ \\mathbf{w}^T\\mathbf{x}$ is restricted to passing through the origin. So to avoid this, and thus increase the range of motion of the decision boundary, we add an extra *intercept* term, $\\ x_0 = 1$ to each training example, and corresponding $\\ w_0$ in the weights vector.\n"
   ]
  },
  {
   "cell_type": "markdown",
   "metadata": {},
   "source": [
    "To get a feeling for the intuition behind the update rule, consider separately the cases when a correct prediction is made, when a positive label is misclassified and when a negative label is misclassified:\n",
    "\n",
    "* **Correct prediction:** In this case, $\\ y_n = \\hat{y_n}$, so \n",
    "\n",
    "    $$\n",
    "    \\Delta\\mathbf{w} = \\alpha(0)\\mathbf{x}_n = 0\n",
    "    $$\n",
    "    \n",
    "    Thus the weights remain unchanged.\n",
    "    \n",
    "    \n",
    "* **Incorrect negative prediction:**\n",
    "\n",
    "    $$\n",
    "    \\Delta\\mathbf{w} = \\alpha(1 - (-1))\\mathbf{x}_n = \\alpha(2)\\mathbf{x}_n\n",
    "    $$\n",
    "    \n",
    "    In this case, the weights are increased by a positive factor of $\\ 2$, thereby pushing the prediction $\\ \\mathbf{w}^T\\mathbf{x}_n$ in a positive direction.\n",
    "    \n",
    "    \n",
    "* **Incorrect positive prediction:**\n",
    "\n",
    "    $$\n",
    "    \\Delta\\mathbf{w} = \\alpha(-1 - (1))\\mathbf{x}_n = \\alpha(-2)\\mathbf{x}_n\n",
    "    $$\n",
    "    \n",
    "    In this case, the weights are increased by a negative factor of $\\ -2$, thereby pushing the prediction $\\ \\mathbf{w}^T\\mathbf{x}_n$ in a positive direction."
   ]
  },
  {
   "cell_type": "markdown",
   "metadata": {},
   "source": [
    "### The Perceptron in Python"
   ]
  },
  {
   "cell_type": "code",
   "execution_count": 174,
   "metadata": {},
   "outputs": [],
   "source": [
    "import numpy as np\n",
    "\n",
    "class Perceptron(object):\n",
    "    \"\"\"Perceptron binary classifier.\n",
    "    \n",
    "    Learns a decision boundery to classify data as either positive or negative.\n",
    "    \n",
    "    \n",
    "    Parameters\n",
    "    ----------\n",
    "    alpha : float\n",
    "            Learning rate.\n",
    "    epochs : integer\n",
    "             Number of passes over the training data.\n",
    "                \n",
    "    Attributes\n",
    "    ----------\n",
    "    w_ : array-like, shape = [1, m]\n",
    "         Learned weights\n",
    "    errors : list of integers\n",
    "             number of misclassifications made in each epoch.\n",
    "             \n",
    "    \"\"\"\n",
    "    def __init__(self, alpha = 0.01, epochs = 10):\n",
    "        self.alpha = alpha\n",
    "        self.epochs = epochs\n",
    "        \n",
    "        \n",
    "    def predict(self, x):\n",
    "            \"\"\"Heaviside activation function.\"\"\"\n",
    "            return np.where(np.dot(self.w_.T, x) >= 0, 1, -1)\n",
    "        \n",
    "        \n",
    "    def learn(self, X, y):\n",
    "        \"\"\"\n",
    "        Implements the Perceptron learning algorithm to learn the weights for\n",
    "        the Perceptron classifier.\n",
    "        \n",
    "        Parameters\n",
    "        ----------\n",
    "        X : array-like, shape = [N, m]\n",
    "            Training example inputs.\n",
    "        y : array-like, shape = [N, 1]\n",
    "            Training example labels.\n",
    "        \n",
    "        Returns\n",
    "        -------\n",
    "        self: object\n",
    "        \n",
    "        \"\"\"\n",
    "        \n",
    "        m = X.shape[1]\n",
    "        N = X.shape[0]\n",
    "        \n",
    "        self.w_ = np.zeros([1 + m, 1])\n",
    "        self.errors_ = []\n",
    "        \n",
    "        X = np.concatenate((np.ones([N,1]), X), axis = 1) #append column of 1's to X (intercepts)\n",
    "        \n",
    "        for _ in range(self.epochs):\n",
    "            errors = 0\n",
    "            \n",
    "            for x_n, y_n in zip(X,y):\n",
    "                x_n = x_n.reshape((m+1, 1))\n",
    "                update = self.alpha*(y_n - self.predict(x_n))*x_n\n",
    "                self.w_ += update\n",
    "                errors += np.sum(update != 0.0)/(m+1)\n",
    "                \n",
    "            self.errors_.append(errors)\n",
    "            \n",
    "        return self\n",
    "    "
   ]
  },
  {
   "cell_type": "code",
   "execution_count": 175,
   "metadata": {},
   "outputs": [
    {
     "data": {
      "text/plain": [
       "<__main__.Perceptron at 0x10948fda0>"
      ]
     },
     "execution_count": 175,
     "metadata": {},
     "output_type": "execute_result"
    }
   ],
   "source": [
    "import pandas as pd\n",
    "\n",
    "iris = pd.read_csv('https://archive.ics.uci.edu/ml/machine-learning-databases/iris/iris.data', header = None)\n",
    "\n",
    "y = iris.iloc[0:100, 4].values\n",
    "y = np.where(y == 'Iris-setosa', -1, 1)\n",
    "X = iris.iloc[0:100, [0,2]].values\n",
    "\n",
    "model = Perceptron(alpha = 0.1, epochs = 10)\n",
    "model.learn(X,y)"
   ]
  },
  {
   "cell_type": "code",
   "execution_count": 196,
   "metadata": {},
   "outputs": [
    {
     "data": {
      "image/png": "[encoded data removed]",
      "text/plain": [
       "<matplotlib.figure.Figure at 0x1093e5860>"
      ]
     },
     "metadata": {},
     "output_type": "display_data"
    }
   ],
   "source": [
    "import matplotlib.pyplot as plt\n",
    "\n",
    "# scatter plot of iris data\n",
    "plt.scatter(X[:50, 0], X[:50, 1], color='red', marker='o', label='setosa')\n",
    "plt.scatter(X[50:100, 0], X[50:100, 1], color='blue', marker='x', label='versicolor')\n",
    "plt.xlabel('petal length')\n",
    "plt.ylabel('sepal length')\n",
    "plt.legend(loc='upper left')\n",
    "\n",
    "# decision boundary, using formula for 1D hyperplane\n",
    "xx = np.linspace(4, 7.5)\n",
    "a = -model.w_[0]/model.w_[2]\n",
    "b = -model.w_[1]/model.w_[2]\n",
    "yy = a + b*xx\n",
    "\n",
    "plt.plot(xx, yy, '--', color = 'black')\n",
    "\n",
    "plt.show()"
   ]
  },
  {
   "cell_type": "code",
   "execution_count": 177,
   "metadata": {},
   "outputs": [
    {
     "data": {
      "image/png": "[encoded data removed]",
      "text/plain": [
       "<matplotlib.figure.Figure at 0x1095173c8>"
      ]
     },
     "metadata": {},
     "output_type": "display_data"
    }
   ],
   "source": [
    "plt.plot(range(1, len(model.errors_) + 1), model.errors_,marker='o')\n",
    "plt.xlabel('Epochs')\n",
    "plt.ylabel('Number of misclassifications')\n",
    "plt.show()"
   ]
  }
 ],
 "metadata": {
  "kernelspec": {
   "display_name": "Python 3",
   "language": "python",
   "name": "python3"
  },
  "language_info": {
   "codemirror_mode": {
    "name": "ipython",
    "version": 3
   },
   "file_extension": ".py",
   "mimetype": "text/x-python",
   "name": "python",
   "nbconvert_exporter": "python",
   "pygments_lexer": "ipython3",
   "version": "3.6.1"
  }
 },
 "nbformat": 4,
 "nbformat_minor": 2
}
