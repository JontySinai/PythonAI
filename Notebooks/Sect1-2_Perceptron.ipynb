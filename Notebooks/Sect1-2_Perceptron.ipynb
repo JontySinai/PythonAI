{
 "cells": [
  {
   "cell_type": "markdown",
   "metadata": {},
   "source": [
    "# Exploring Artificial Intelligence\n",
    "\n",
    "*See accompanying blogpost [here](https://jontysinai.github.io/jekyll/update/2017/11/11/the-perceptron.html)*\n",
    "\n",
    "A foray into artificial intelligence, with the help of math, history and Python.  \n",
    "by _Jonty Sinai_\n",
    "\n",
    "\n",
    "## Section 1: Foundations of Machine Learning\n",
    "## Part 2: The Perceptron\n",
    "\n",
    "We will explore an evolution of the MCP Neuron, discussed in Part 1, artificial neuron known as the Perceptron, which was introduced by the psychologist Frank Rosenblatt in 1957. The Perceptron extended the MCP Neuron model by incorporating a simple learning algorithm, which could learn a set of weights, instead of having to pre-programme the weights.\n",
    "\n",
    "### Reminder: The MCP Neuron\n",
    "\n",
    "As a reminder, recall the mathematical model of the MCP Neuron:\n",
    "\n",
    "![](../Assets/mcp-neuron-graph.png)\n",
    "\n",
    "* $m$ binary input signals, $\\ x_1, x_2, ..., x_m \\in \\{0,1\\}$.\n",
    "* A set of binary _weights_ for each input, $\\ w_1, w_2, ..., w_m \\in \\{-1,0,1\\}$.\n",
    "* An _activation function_, $\\ f:\\{0,1\\}^{m} \\to \\{0,1\\}$.\n",
    "* A threshold value; an integer $\\ t \\in \\mathbb{Z}^{*}$.\n",
    "* An output signal, $\\ y \\in \\{0,1\\}$, such that $\\ y = f(x_1, x_2, ..., x_m)$\n",
    "\n",
    "For the MCP Neuron, the activation function was the *Heaviside step function*:\n",
    "\n",
    "$$\n",
    "y = \\left\\{\n",
    "\\begin{array}{l}\n",
    "1, \\ \\text{if} \\ \\sum_{i=1}^{m}w_{i}x_{i} \\geq t,\\\\[3pt]\n",
    "0, \\ \\text{otherwise}\n",
    "\\end{array}\n",
    "\\right.\n",
    "$$"
   ]
  },
  {
   "cell_type": "markdown",
   "metadata": {},
   "source": [
    "### The Perceptron Model\n",
    "\n",
    "The Perceptron extends the MCP Neuron model above, first by allowing the input signals and weights to take values in $\\ \\mathbb{R}^m$. The output signals are still, for the moment, binary, but taking value $\\ y \\in \\{-1,1\\}$, instead of from $\\ \\{0,1\\}$. This is a minor detail which we make for computational convenience. \n",
    "\n",
    "The significant change, however, is the incorporation of a *learning algorithm* to learn the weights. In particular, the Perceptron is a supervised learning problem where we have *training data* with the correct input and output values. If there are $N$ *training examples*, then our training data takes the form:\n",
    "\n",
    "$$\n",
    "\\ (\\mathbf{x}_n, y_n) \\in \\mathbb{R}^{m}\\times\\{-1,1\\}, \\ \\ \\forall \\ n = 1,2, ..., N\n",
    "$$. \n",
    "\n",
    "For a given training example, $\\ \\mathbf{x}_n$, a *prediction* is made using the Heaviside step function, as before.\n",
    "\n",
    "Then the learning algorithm is follows:\n",
    "\n",
    "1. Initialise the weights vector, $\\ \\mathbf{w}$ either to zero or with random, small values.\n",
    "2. For $\\ n = 1,2, ..., N$:\n",
    "    1. Calculate the predicted label for $\\ \\mathbf{x}_n$ using $\\ \\mathbf{w}$:\n",
    "    \n",
    "    $$\n",
    "    \\hat{y_n} = \\left\\{\n",
    "    \\begin{array}{l}\n",
    "        1, \\ \\text{if} \\ \\mathbf{w}^T\\mathbf{x}_n \\geq t,\\\\[3pt]\n",
    "        -1, \\ \\text{otherwise}\n",
    "    \\end{array}\n",
    "    \\right.\n",
    "    $$\n",
    "    \n",
    "    2. Update the weights vector using the *update rule*:\n",
    "    \n",
    "    $$\n",
    "    \\mathbf{w} := \\mathbf{w} + \\Delta\\mathbf{w}\n",
    "    $$\n",
    "    \n",
    "    where \n",
    "    \n",
    "    $$\n",
    "    \\Delta\\mathbf{w} = \\alpha(y_n - \\hat{y_n})\\mathbf{x}_n\n",
    "    $$\n",
    "    \n",
    "    The parameter $\\alpha > 0$ is called the *learning rate* and controls the sensitivity of the updates to incorrect predictions. For more on the intuition behind the learning rate, see the accompanying blogpost.\n",
    "    \n",
    "[Image of the Perceptron model here]\n",
    "\n",
    "As a technical note, the decision boundary of the hyperplane $\\ \\mathbf{w}^T\\mathbf{x}$ is restricted to passing through the origin. So to avoid this, and thus increase the range of motion of the decision boundary, we add an extra *intercept* term, $\\ x_0 = 1$ to each training example, and corresponding $\\ w_0$ in the weights vector.\n"
   ]
  },
  {
   "cell_type": "markdown",
   "metadata": {},
   "source": [
    "To get a feeling for the intuition behind the update rule, consider separately the cases when a correct prediction is made, when a positive label is misclassified and when a negative label is misclassified:\n",
    "\n",
    "* **Correct prediction:** In this case, $\\ y_n = \\hat{y_n}$, so \n",
    "\n",
    "    $$\n",
    "    \\Delta\\mathbf{w} = \\alpha(0)\\mathbf{x}_n = 0\n",
    "    $$\n",
    "    \n",
    "    Thus the weights remain unchanged.\n",
    "    \n",
    "    \n",
    "* **Incorrect negative prediction:**\n",
    "\n",
    "    $$\n",
    "    \\Delta\\mathbf{w} = \\alpha(1 - (-1))\\mathbf{x}_n = \\alpha(2)\\mathbf{x}_n\n",
    "    $$\n",
    "    \n",
    "    In this case, the weights are increased by a positive factor of $\\ 2$, thereby pushing the prediction $\\ \\mathbf{w}^T\\mathbf{x}_n$ in a positive direction.\n",
    "    \n",
    "    \n",
    "* **Incorrect positive prediction:**\n",
    "\n",
    "    $$\n",
    "    \\Delta\\mathbf{w} = \\alpha(-1 - (1))\\mathbf{x}_n = \\alpha(-2)\\mathbf{x}_n\n",
    "    $$\n",
    "    \n",
    "    In this case, the weights are increased by a negative factor of $\\ -2$, thereby pushing the prediction $\\ \\mathbf{w}^T\\mathbf{x}_n$ in a positive direction."
   ]
  },
  {
   "cell_type": "markdown",
   "metadata": {},
   "source": [
    "## The Perceptron in Python\n",
    "\n",
    "We will now implement the Perceptron in Python as a class object. The Perceptron is instantiated with two parameters: the learning rate, $\\ \\alpha$, and the total number of *epochs* - where an epoch is a complete pass through the entire training set.\n",
    "\n",
    "The class keeps track of two attributes: the weights vector, which can be used to make new predictions by using the `predict` method, and a list of the number of errors in each epoch. It is important to keep track of the number of errors, in order to make sure that the error rate is decreasing as the Perceptron learns. If not, an increasing or unstable error rate is an indication that either the error rate needs to be adjusted, or more epochs are needed, or that the Perceptron simply cannot learn a good decision boundary for the given data.\n",
    "\n",
    "Note that before the learning procedure, a vector of $\\ 1$'s is added the traing examples to account for the intercept term used in the weights vector. This allows the Perceptron to learn decision boundaries which are not restricted to passing through the origin."
   ]
  },
  {
   "cell_type": "code",
   "execution_count": 108,
   "metadata": {
    "collapsed": true
   },
   "outputs": [],
   "source": [
    "import numpy as np\n",
    "\n",
    "class Perceptron(object):\n",
    "    \"\"\"Perceptron binary classifier.\n",
    "    \n",
    "    Learns a decision boundery to classify data as either positive or negative.\n",
    "    \n",
    "    \n",
    "    Parameters\n",
    "    ----------\n",
    "    alpha : float\n",
    "            Learning rate.\n",
    "    threshold : float\n",
    "                Threshold used for predicting a label.\n",
    "    epochs : integer\n",
    "             Number of passes over the training data.\n",
    "                \n",
    "    Attributes\n",
    "    ----------\n",
    "    w_ : array-like, shape = [1, m]\n",
    "         Learned weights\n",
    "    errors : list of integers\n",
    "             number of misclassifications made in each epoch.\n",
    "             \n",
    "    \"\"\"\n",
    "    def __init__(self, alpha = 0.01, threshold = 0, intercept = True, epochs = 10):\n",
    "        self.alpha = alpha\n",
    "        self.threshold = threshold\n",
    "        self.intercept = intercept\n",
    "        self.epochs = epochs\n",
    "        \n",
    "        \n",
    "    def learn(self, X, y):\n",
    "        \"\"\"\n",
    "        Implements the Perceptron learning algorithm to learn the weights for\n",
    "        the Perceptron classifier.\n",
    "        \n",
    "        Parameters\n",
    "        ----------\n",
    "        X : array-like, shape = [N, m]\n",
    "            Training example inputs.\n",
    "        y : array-like, shape = [N, 1]\n",
    "            Training example labels.\n",
    "        \n",
    "        Returns\n",
    "        -------\n",
    "        self: object\n",
    "        \n",
    "        \"\"\"\n",
    "        \n",
    "        N = X.shape[0]\n",
    "        \n",
    "        if self.intercept:\n",
    "            X = np.concatenate((np.ones([N,1]), X), axis = 1)\n",
    "            \n",
    "        m = X.shape[1]\n",
    "        \n",
    "        self.w_ = self.initialise(m)\n",
    "        self.errors_ = []\n",
    "        \n",
    "        for _ in range(self.epochs):\n",
    "            errors = 0\n",
    "            \n",
    "            for x_n, y_n in zip(X,y):\n",
    "                x_n = x_n.reshape((m, 1))\n",
    "                update = self.alpha*(y_n - self.predict(x_n))*x_n\n",
    "                self.w_ += update\n",
    "                errors += np.sum(update != 0.0)/(m)\n",
    "                \n",
    "            self.errors_.append(errors)\n",
    "            \n",
    "        return self\n",
    "    \n",
    "    \n",
    "    def initialise(self, m):\n",
    "        \"\"\"Initialise vector of weights to zero\"\"\"\n",
    "        return np.zeros([m, 1])\n",
    "    \n",
    "    \n",
    "    def predict(self, x):\n",
    "            \"\"\"Heaviside activation function.\"\"\"\n",
    "            return np.where(np.dot(self.w_.T, x) >= self.threshold, 1, -1)\n",
    "\n",
    "    "
   ]
  },
  {
   "cell_type": "markdown",
   "metadata": {},
   "source": [
    "### Applying the Perceptron to Logic Gates\n",
    "\n",
    "Recall that using the MCP Neuron, we could model the AND, OR and NOT logic gates by specifying an appropriate weights vector and threshold. For example, to model the AND gate for two input signals, we could specifiy a weights vector $\\ \\mathbf{w} = [1,1]$ and a threshold value $\\ t = 2$ so that both input signals had to be positive to trigger a positive signal.\n",
    "\n",
    "Below, we will show how the Perceptron can represent the OR and AND logic gates as a decision boundary in a 2D plane."
   ]
  },
  {
   "cell_type": "markdown",
   "metadata": {},
   "source": [
    "**OR Gate**:\n",
    "\n",
    "| $x_1$      | $x_2$      | $y$       |\n",
    "|:----------:|:----------:|:---------:|\n",
    "| 0          | 0          | 0         |\n",
    "| 0          | 1          | 1         |\n",
    "| 1          | 0          | 1         |\n",
    "| 1          | 1          | 1         |"
   ]
  },
  {
   "cell_type": "code",
   "execution_count": 109,
   "metadata": {},
   "outputs": [
    {
     "data": {
      "image/png": "[encoded data removed]",
      "text/plain": [
       "<matplotlib.figure.Figure at 0x1138b8518>"
      ]
     },
     "metadata": {},
     "output_type": "display_data"
    }
   ],
   "source": [
    "import matplotlib.pyplot as plt\n",
    "\n",
    "OR = np.array([[0,0,0], [0,1,1], [1,0,1], [1,1,1]])\n",
    "\n",
    "OR_pcptrn = Perceptron(alpha=0.1, threshold=0.5, intercept = False, epochs=10)\n",
    "OR_pcptrn.learn(X = OR[:,0:2], y = OR[:,2:])\n",
    "\n",
    "# OR Gate Decision Boundery\n",
    "plt.scatter(OR[1:,0], OR[1:,1], color='black', marker = 'o')\n",
    "plt.scatter(OR[0,0], OR[0,1], color='white', edgecolor = 'black', marker='o')\n",
    "\n",
    "xx = np.linspace(0.0, 0.5)\n",
    "w = OR_pcptrn.w_\n",
    "a = 0.5\n",
    "b = -w[0]/w[1]\n",
    "yy = a + b*xx\n",
    "\n",
    "plt.plot(xx, yy, '--', color = 'black')\n",
    "\n",
    "plt.show()"
   ]
  },
  {
   "cell_type": "markdown",
   "metadata": {},
   "source": [
    "**AND Gate**:\n",
    "\n",
    "| $x_1$      | $x_2$      | $y$       |\n",
    "|:----------:|:----------:|:---------:|\n",
    "| 0          | 0          | 0         |\n",
    "| 0          | 1          | 0         |\n",
    "| 1          | 0          | 0         |\n",
    "| 1          | 1          | 1         |"
   ]
  },
  {
   "cell_type": "code",
   "execution_count": 110,
   "metadata": {},
   "outputs": [
    {
     "data": {
      "image/png": "[encoded data removed]",
      "text/plain": [
       "<matplotlib.figure.Figure at 0x112d25438>"
      ]
     },
     "metadata": {},
     "output_type": "display_data"
    }
   ],
   "source": [
    "import matplotlib.pyplot as plt\n",
    "\n",
    "AND = np.array([[0,0,0], [0,1,0], [1,0,0], [1,1,1]])\n",
    "\n",
    "AND_pcptrn = Perceptron(alpha=0.1, threshold=1.5, intercept = False, epochs=10)\n",
    "AND_pcptrn.learn(X = AND[:,0:2], y = AND[:,2:])\n",
    "\n",
    "# OR Gate Decision Boundery\n",
    "plt.scatter(AND[3,0], AND[3,1], color='black', marker = 'o')\n",
    "plt.scatter(AND[:3,0], AND[:3,1], color='white', edgecolor = 'black', marker='o')\n",
    "\n",
    "xx = np.linspace(0.5, 1)\n",
    "w = AND_pcptrn.w_\n",
    "a = 1.5\n",
    "b = -w[0]/w[1]\n",
    "yy = a + b*xx\n",
    "\n",
    "plt.plot(xx, yy, '--', color = 'black')\n",
    "\n",
    "plt.show()"
   ]
  },
  {
   "cell_type": "markdown",
   "metadata": {},
   "source": [
    "### Perceptron on a Test Data\n",
    "\n",
    "Finally, to show how the Perceptron can solve a greater class of problems than the MCP Neuron, we will implement the Perceptron on the Iris dataset, which is a popular benchmark for simple, linear classifiers.\n",
    "\n",
    "The Iris dataset can be obtained from the archives of the Donald Bren School of Information and Computer Science at the University of California, Irvine. Find the link [here](https://archive.ics.uci.edu/ml/machine-learning-databases/iris/).\n",
    "\n",
    "The Iris plants database contains 150 observations of three different types of iris: setosa, versicolour and virginica. For each observation, the sepal width, sepal length, petal width and petal length are measured. \n",
    "\n",
    "For visualisation convenience, consider only two of these classes - setosa and versicolor - and two of these measurements - sepal length and petal length."
   ]
  },
  {
   "cell_type": "code",
   "execution_count": 111,
   "metadata": {},
   "outputs": [
    {
     "data": {
      "image/png": "[encoded data removed]",
      "text/plain": [
       "<matplotlib.figure.Figure at 0x1136cc390>"
      ]
     },
     "metadata": {},
     "output_type": "display_data"
    }
   ],
   "source": [
    "import pandas as pd\n",
    "\n",
    "# load data\n",
    "iris = pd.read_csv('https://archive.ics.uci.edu/ml/machine-learning-databases/iris/iris.data', header = None)\n",
    "\n",
    "y = iris.iloc[0:100, 4].values\n",
    "y = np.where(y == 'Iris-setosa', -1, 1)\n",
    "X = iris.iloc[0:100, [0,2]].values\n",
    "\n",
    "# data visualisation\n",
    "plt.scatter(X[:50, 0], X[:50, 1], color='red', marker='o', label='setosa')\n",
    "plt.scatter(X[50:100, 0], X[50:100, 1], color='blue', marker='x', label='versicolor')\n",
    "plt.xlabel('petal length')\n",
    "plt.ylabel('sepal length')\n",
    "plt.legend(loc='upper left')\n",
    "\n",
    "plt.show()"
   ]
  },
  {
   "cell_type": "markdown",
   "metadata": {},
   "source": [
    "From the scatter plot, we can see that this data form two distinct clusters. Our aim will be to use the Perceptron to draw a decision boundary between these two clusters."
   ]
  },
  {
   "cell_type": "code",
   "execution_count": 112,
   "metadata": {},
   "outputs": [
    {
     "data": {
      "image/png": "[encoded data removed]",
      "text/plain": [
       "<matplotlib.figure.Figure at 0x113c1b978>"
      ]
     },
     "metadata": {},
     "output_type": "display_data"
    }
   ],
   "source": [
    "# initialise parameters for the Perceptron\n",
    "iris_pcptrn = Perceptron(alpha = 0.1, epochs = 10)\n",
    "# learn weights\n",
    "iris_pcptrn.learn(X,y)\n",
    "\n",
    "# plot decision boundary\n",
    "plt.scatter(X[:50, 0], X[:50, 1], color='red', marker='o', label='setosa')\n",
    "plt.scatter(X[50:100, 0], X[50:100, 1], color='blue', marker='x', label='versicolor')\n",
    "plt.xlabel('petal length')\n",
    "plt.ylabel('sepal length')\n",
    "plt.legend(loc='upper left')\n",
    "\n",
    "xx = np.linspace(4, 7.5)\n",
    "w = iris_pcptrn.w_\n",
    "a = -w[0]/w[2]\n",
    "b = -w[1]/w[2]\n",
    "yy = a + b*xx\n",
    "\n",
    "plt.plot(xx, yy, '--', color = 'black')\n",
    "\n",
    "plt.show()"
   ]
  },
  {
   "cell_type": "markdown",
   "metadata": {},
   "source": [
    "Finally, we can plot the number of errors over the number of epochs to show that the Perceptron quickly converges to a good decision boundary: one that is able to easily distinguish between Iris Setosa and Iris Versicolor with zero error!"
   ]
  },
  {
   "cell_type": "code",
   "execution_count": 113,
   "metadata": {},
   "outputs": [
    {
     "data": {
      "image/png": "[encoded data removed]",
      "text/plain": [
       "<matplotlib.figure.Figure at 0x113b09da0>"
      ]
     },
     "metadata": {},
     "output_type": "display_data"
    }
   ],
   "source": [
    "plt.plot(range(1, len(iris_pcptrn.errors_) + 1), iris_pcptrn.errors_,marker='o')\n",
    "plt.xlabel('Epochs')\n",
    "plt.ylabel('Number of misclassifications')\n",
    "plt.show()"
   ]
  }
 ],
 "metadata": {
  "kernelspec": {
   "display_name": "Python 3",
   "language": "python",
   "name": "python3"
  },
  "language_info": {
   "codemirror_mode": {
    "name": "ipython",
    "version": 3
   },
   "file_extension": ".py",
   "mimetype": "text/x-python",
   "name": "python",
   "nbconvert_exporter": "python",
   "pygments_lexer": "ipython3",
   "version": "3.6.1"
  }
 },
 "nbformat": 4,
 "nbformat_minor": 2
}
