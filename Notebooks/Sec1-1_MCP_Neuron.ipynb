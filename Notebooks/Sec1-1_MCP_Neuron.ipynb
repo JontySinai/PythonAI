{
 "cells": [
  {
   "cell_type": "markdown",
   "metadata": {},
   "source": [
    "# Exploring Artificial Intelligence\n",
    "\n",
    "*See accompanying blogpost [here](https://jontysinai.github.io/jekyll/update/2017/09/24/the-mcp-neuron.html)*\n",
    "\n",
    "A foray into artificial intelligence, with the help of math, history and Python.  \n",
    "by _Jonty Sinai_\n",
    "\n",
    "\n",
    "## Section 1: Foundations of Machine Learning\n",
    "## Part 1: The McCulloch-Pitts Neuron\n",
    "\n",
    "We will begun by studying the earliest form of an artificial neuron: the **McCulloch-Pitts (MCP) Neuron**. The MCP Neuron is a simplified mathematical model of a biological neuron which can be used to construct Boolean logic gates.\n",
    "\n",
    "Although the MCP neuron is rudimentary by today's standards, it formed an early and important stepping stone in the history of artificial neural networks. Frank Rosenblatt's _Perceptron_ and later _artificial neural networks_ both build on the fundamental ideas of the MCP neuron.\n",
    "\n",
    "### A Very Brief Look at Neurons\n",
    "\n",
    "We understand _neurons_ as electrically excitable, interconnected nerve cells in the brain which process and transmit information through electrical and chemical signals. The connections between neurons are known as _synapses_. When connected together, neurons and synapses from a _neural network_. Neurons consist of three main parts:\n",
    "\n",
    "![](../Assets/bio-neuron.png)\n",
    "<br/>\n",
    "\n",
    "* The _cell body_ or _soma_: main part of the neuron which processes signals.\n",
    "* _Dendrites_: branch-like shapes which receive signals from other neurons.\n",
    "* _Axon_: a single nerve which sends signals to other neurons.\n",
    "\n",
    "Thus a single neuron may receive many signals from other neurons via its dendrites. These signals are then combined and may fire off another signal from the neuron via its axon to other neurons.\n",
    "\n",
    "[source: [wikipedia](https://en.wikipedia.org/wiki/Neuron)]\n"
   ]
  },
  {
   "cell_type": "markdown",
   "metadata": {},
   "source": [
    "#### The MCP Model of an Artificial Neuron\n",
    "\n",
    "The McCulloch-Pitts (MCP) model is the earliest mathematical representation of an artificial neuron. It was first proposed in 1943 by the neurophysiologist Walter S. McCulloch and the logician Walter Pitts. The MCP model abstracts the biological notion of a neuron as a mathematical model containing:\n",
    "\n",
    "![](../Assets/mcp-neuron-graph.png)\n",
    "\n",
    "* $m$ binary input signals, $\\ x_1, x_2, ..., x_m \\in \\{0,1\\}$.\n",
    "* A set of binary _weights_ for each input, $\\ w_1, w_2, ..., w_m \\in \\{-1,0,1\\}$.\n",
    "* Inputs with a weight of $1$ are called _excitatory_, while inputs with a weight of $-1$ are called _inhibitory_. \n",
    "* Inputs with a weight of $0$ do not contribute at all to the neuron. \n",
    "* An _activation function_, $\\ f:\\{0,1\\}^{m} \\to \\{0,1\\}$.\n",
    "* A threshold value; an integer $\\ t \\in \\mathbb{Z}^{*}$.\n",
    "* An output signal, $\\ y \\in \\{0,1\\}$, such that $\\ y = f(x_1, x_2, ..., x_m)$\n",
    "\n",
    "$_{* \\ \\text{the keen mathematician will note that the threshold value is bounded by the number of input signals,} \\ m \\ \\text{, so that} \\ t \\ \\in \\ [-m, m] \\ \\subset \\ \\mathbb{Z}}$\n",
    "\n",
    "The logic is as follows:\n",
    "\n",
    "* If the sum of the weighted inputs exceeds the threshold value, then the neuron is said to be _activated_ and the output signal is $1$. \n",
    "* Otherwise the neuron is _not activated_ and the output signal is $0$. "
   ]
  },
  {
   "cell_type": "markdown",
   "metadata": {},
   "source": [
    "Nowadays there are a variety of activation functions which are used to form a binary classifyer. In its original formulation, the activation function took the form of a _Heaviside step function_. The Heaviside step function matches the logic above by outputing $1$ when the neuron is activated; $0$ otherwise.\n",
    "\n",
    "Ie.\n",
    "  \n",
    "$$\n",
    "y = \\left\\{\n",
    "\\begin{array}{l}\n",
    "1, \\ \\text{if} \\ \\sum_{i=1}^{m}w_{i}x_{i} \\geq t,\\\\[3pt]\n",
    "0, \\ \\text{otherwise}\n",
    "\\end{array}\n",
    "\\right.\n",
    "$$\n",
    "\n",
    "[[source](http://aishack.in/tutorials/artificial-neurons-mccullochpitts-model/)]\n",
    "\n",
    "Using this model, McCulloch and Pitts showed (using some impressive logical calculus) that is was possible to construct the three basic _Boolean logic gates_: OR, AND and NOT$^{1}$. \n",
    "\n",
    "For an overview of logic gates, see [here](http://www.ee.surrey.ac.uk/Projects/CAL/digital-logic/gatesfunc/)."
   ]
  },
  {
   "cell_type": "markdown",
   "metadata": {},
   "source": [
    "### The MCP Neuron in Python\n",
    "\n",
    "Now that we've covered the basic math for the MCP Neuron, we can get to the fun part: implementing it in Python. \n",
    "\n",
    "_Each logic gate is completely determined by its weights and its threshold value_. So the idea is to define a class which takes in the weight and threshold value as inputs, from which we can define each type of gate. We can then define a simple process which takes in input signals, applies an activation function (using the input weights) and then uses the threshold value to _decide_ if the output of that signal is a $1$ or a $0$. \n",
    "\n",
    "To make the exercise more lively, we can use the Python script to generate truth tables (see the logic gate reference above) for each logic gate. Truth tables are also a niceway of quickly analysing how different weights and thresholds change the behaviour of each logic gate. \n",
    "\n",
    "To keep things simple, the `decide` function below, which decides if a set of inputs returns a $1$ or a $0$, operates only on 1-D arrays (list) of signals; as opposed to a truth table which is a 2-D matrix. Thus we can define the concept of a _message_:\n",
    "\n",
    "* a _message_ is an $m$-dimensional vector of binary input signals, $(x_1, x_2, ..., x_m) \\in \\{0,1\\}^{m}$\n",
    "\n",
    "Then, ignoring the last column of the truth table (which is the output signal), each row of the truth table is a message. Finally we can abstract the truth table (ignoring the last column) as a set of $n$ messages, where $n$ is the number of rows of the truth table. \n",
    "\n",
    "The procedure for generating truth tables is then to make a decision on each row and append the output signals to the table (which is a 2-D array).\n",
    "\n",
    "The following code chunk contains a Python representation of the MCP neuron."
   ]
  },
  {
   "cell_type": "code",
   "execution_count": 2,
   "metadata": {
    "collapsed": true
   },
   "outputs": [],
   "source": [
    "import numpy as np\n",
    "import pandas as pd\n",
    "\n",
    "class MCPNeuron(object):\n",
    "    \"\"\"McCulloch-Pitts Neuron model\n",
    "    \n",
    "    Creates a logic gate using a set of weights and \n",
    "    an activation threshold. \n",
    "    \n",
    "    Parameters\n",
    "    ----------\n",
    "        w : array-like, shape = [1, m_signals]\n",
    "            Input weights, either -1, 0 or 1.\n",
    "        t : int \n",
    "            Activation threshold.\n",
    "    \n",
    "    \"\"\"\n",
    "    \n",
    "    def __init__(self, w = [1,1], t = 1):\n",
    "        self.w = np.array(w)\n",
    "        self.t = t\n",
    "        \n",
    "    \n",
    "    def decide(self, message):\n",
    "        \"\"\" Heaviside activation function.\n",
    "        \n",
    "        Returns 1 if the weighted sum of the input signals,\n",
    "        passed as a message, exceeds the threshold value. \n",
    "        \n",
    "        Returns 0, otherwise.\n",
    "        \n",
    "        Parameters\n",
    "        ----------\n",
    "            message : array-like, shape = [1, m_signals] \n",
    "                Array of input signals, either 0 or 1.\n",
    "        \n",
    "        Returns\n",
    "        -------\n",
    "            y : int\n",
    "                Output signal, either 0 or 1.\n",
    "        \n",
    "        \"\"\"\n",
    "        \n",
    "        x = message # consistency with function notation above\n",
    "        sum_ = np.inner(self.w,x)\n",
    "        \n",
    "        if sum_ >= self.t:\n",
    "            return 1\n",
    "        else:\n",
    "            return 0\n",
    "        \n",
    "        \n",
    "    def TruthTable(self, in_signals, in_labels, out_label):\n",
    "        \"\"\"\n",
    "        Generates a truth table (dataframe) of n messages\n",
    "        for a logic gate object constructed using the MCPNeuron \n",
    "        class, where a message is a 1-D array of m signals.\n",
    "        \n",
    "        Parameters\n",
    "        ----------\n",
    "            in_signals : array-like, shape = [n_messages, m_signals]\n",
    "                Set of input signals, each 0 or 1.\n",
    "            in_labels : list, length = m_signals\n",
    "                Column labels, as strings, for the input signals\n",
    "            out_label : str\n",
    "                Column label for the output signal\n",
    "            \n",
    "        Returns\n",
    "        -------\n",
    "            table: dataframe, shape = [n_messages, m_signals + 1]\n",
    "                Truth table showing relationship between in and out\n",
    "                signals.\n",
    "        \n",
    "        \"\"\"\n",
    "        \n",
    "        table = pd.DataFrame(in_signals, columns = in_labels)\n",
    "        \n",
    "        out_signals = []\n",
    "        for row in in_signals:\n",
    "            signal = self.decide(message = row)\n",
    "            out_signals.append(signal)\n",
    "            \n",
    "        table[out_label] = pd.Series(out_signals)\n",
    "        return table\n",
    "        "
   ]
  },
  {
   "cell_type": "markdown",
   "metadata": {},
   "source": [
    "**OR Gate**:\n",
    "\n",
    "The OR gate is a logic gate which returns true (1) if at least one of its input signals is true (1).\n",
    "\n",
    "* Weights: $\\ w_1 = 1, w_2 = 1$\n",
    "* Threshold: $\\ t = 1$\n",
    "\n",
    "| $x_1$      | $x_2$      | $y$       |\n",
    "|:----------:|:----------:|:---------:|\n",
    "| 0          | 0          | 0         |\n",
    "| 0          | 1          | 1         |\n",
    "| 1          | 0          | 1         |\n",
    "| 1          | 1          | 1         |"
   ]
  },
  {
   "cell_type": "code",
   "execution_count": 3,
   "metadata": {},
   "outputs": [
    {
     "name": "stdout",
     "output_type": "stream",
     "text": [
      "   x1  x2  y\n",
      "0   0   0  0\n",
      "1   0   1  1\n",
      "2   1   0  1\n",
      "3   1   1  1\n"
     ]
    }
   ],
   "source": [
    "in_signals = np.array([[0,0], [0,1], [1,0], [1,1]])\n",
    "in_labels = ['x1', 'x2']\n",
    "out_label = 'y'\n",
    "\n",
    "# instantiate OR gate as an MCP Neuron class\n",
    "OR = MCPNeuron(w = [1,1], t = 1)\n",
    "\n",
    "OR_table = OR.TruthTable(in_signals, in_labels = in_labels, out_label = out_label)\n",
    "\n",
    "print(OR_table)\n"
   ]
  },
  {
   "cell_type": "markdown",
   "metadata": {},
   "source": [
    "**AND Gate**:\n",
    "\n",
    "The AND gate is a logic gate which returns true (1) only if both of its input signals are true (1).\n",
    "\n",
    "* Weights: $\\ w_1 = 1, w_2 = 1$\n",
    "* Threshold: $\\ t = 2$\n",
    "\n",
    "| $x_1$      | $x_2$      | $y$       |\n",
    "|:----------:|:----------:|:---------:|\n",
    "| 0          | 0          | 0         |\n",
    "| 0          | 1          | 0         |\n",
    "| 1          | 0          | 0         |\n",
    "| 1          | 1          | 1         |"
   ]
  },
  {
   "cell_type": "code",
   "execution_count": 4,
   "metadata": {},
   "outputs": [
    {
     "name": "stdout",
     "output_type": "stream",
     "text": [
      "   x1  x2  y\n",
      "0   0   0  0\n",
      "1   0   1  0\n",
      "2   1   0  0\n",
      "3   1   1  1\n"
     ]
    }
   ],
   "source": [
    "in_signals = np.array([[0,0], [0,1], [1,0], [1,1]])\n",
    "\n",
    "# instantiate AND gate as an MCP Neuron class\n",
    "AND = MCPNeuron(w = [1,1], t = 2)\n",
    "\n",
    "AND_table = AND.TruthTable(in_signals, in_labels = in_labels, out_label = out_label)\n",
    "\n",
    "print(AND_table)\n",
    "\n"
   ]
  },
  {
   "cell_type": "markdown",
   "metadata": {},
   "source": [
    "**NOT Gate**:\n",
    "\n",
    "The NOT gate inverts the signal of its input, so that if the input is true (1), then the output will be false (0) and vice-versa. In short, it _negates_ the input signal.\n",
    "\n",
    "* Weights: $\\ w_1 = -1$\n",
    "* Threshold: $\\ t = 0$\n",
    "\n",
    "| $x_1$      | $y$       |\n",
    "|:----------:|:---------:|\n",
    "| 0          | 1         |\n",
    "| 1          | 0         |"
   ]
  },
  {
   "cell_type": "code",
   "execution_count": 5,
   "metadata": {},
   "outputs": [
    {
     "name": "stdout",
     "output_type": "stream",
     "text": [
      "   x1  y\n",
      "0   0  1\n",
      "1   1  0\n"
     ]
    }
   ],
   "source": [
    "NOT_signals = np.array([[0], [1]])\n",
    "\n",
    "# instantiate NOT gate as an MCP Neuron class\n",
    "NOT = MCPNeuron(w = [-1], t = 0)\n",
    "\n",
    "NOT_table = NOT.TruthTable(NOT_signals, in_labels = ['x1'], out_label = 'y')\n",
    "\n",
    "print(NOT_table)"
   ]
  },
  {
   "cell_type": "markdown",
   "metadata": {},
   "source": [
    "**NAND Gate**:\n",
    "\n",
    "The NAND gate is a logical composition of the AND gate followed by the NOT gate. Ie it negates the logic of the AND gate, returning true (1) when no more than one of its input signals is true (1). Ie. false (0) is only returned when all input signals are true (1). \n",
    "\n",
    "* Weights: $\\ w_1 = -1, w_2 = -1$\n",
    "* Threshold: $\\ t = -1$\n",
    "\n",
    "| $x_1$      | $x_2$      | $y$       |\n",
    "|:----------:|:----------:|:---------:|\n",
    "| 0          | 0          | 1         |\n",
    "| 0          | 1          | 1         |\n",
    "| 1          | 0          | 1         |\n",
    "| 1          | 1          | 0         |"
   ]
  },
  {
   "cell_type": "code",
   "execution_count": 6,
   "metadata": {},
   "outputs": [
    {
     "name": "stdout",
     "output_type": "stream",
     "text": [
      "   x1  x2  y\n",
      "0   0   0  1\n",
      "1   0   1  1\n",
      "2   1   0  1\n",
      "3   1   1  0\n"
     ]
    }
   ],
   "source": [
    "in_signals = np.array([[0,0], [0,1], [1,0], [1,1]])\n",
    "\n",
    "# instantiate AND gate as an MCP Neuron class\n",
    "NAND = MCPNeuron(w = [-1,-1], t = -1)\n",
    "\n",
    "NAND_table = NAND.TruthTable(in_signals, in_labels = in_labels, out_label = out_label)\n",
    "\n",
    "print(NAND_table)"
   ]
  },
  {
   "cell_type": "markdown",
   "metadata": {},
   "source": [
    "**NOR Gate**:\n",
    "\n",
    "The NOR gate is a logical composition of the OR gate followed by the NOT gate. It negates the logic of the OR gate, returning true (1) only when none of the inputs are true (0). \n",
    "\n",
    "* Weights: $\\ w_1 = -1, w_2 = -1$\n",
    "* Threshold: $\\ t = 0$\n",
    "\n",
    "| $x_1$      | $x_2$      | $y$       |\n",
    "|:----------:|:----------:|:---------:|\n",
    "| 0          | 0          | 1         |\n",
    "| 0          | 1          | 0         |\n",
    "| 1          | 0          | 0         |\n",
    "| 1          | 1          | 0         |"
   ]
  },
  {
   "cell_type": "code",
   "execution_count": 7,
   "metadata": {},
   "outputs": [
    {
     "name": "stdout",
     "output_type": "stream",
     "text": [
      "   x1  x2  y\n",
      "0   0   0  1\n",
      "1   0   1  0\n",
      "2   1   0  0\n",
      "3   1   1  0\n"
     ]
    }
   ],
   "source": [
    "in_signals = np.array([[0,0], [0,1], [1,0], [1,1]])\n",
    "\n",
    "# instantiate AND gate as an MCP Neuron class\n",
    "NOR = MCPNeuron(w = [-1,-1], t = 0)\n",
    "\n",
    "NOR_table = NOR.TruthTable(in_signals, in_labels = in_labels, out_label = out_label)\n",
    "\n",
    "print(NOR_table)"
   ]
  },
  {
   "cell_type": "markdown",
   "metadata": {},
   "source": [
    "**Challenge:** Can you find a set of weights and a threshold value to create the XOR (Exclusive OR) and the XNOR (Exclusive NOR) gates? Note that the XOR gate returns true if at least one but _not all_ of the inputs is true, while XNOR gate returns true if _all or none_ of the inputs are true. \n",
    "\n",
    "**Answer in my next post**"
   ]
  },
  {
   "cell_type": "markdown",
   "metadata": {},
   "source": [
    "#### Academic Papers\n",
    "\n",
    "1. W. S. McCulloch and W. Pitts. A logical calculus of the ideas immanent in nervous activity. The bulletin of mathematical biophysics, 5(4):115–133, 1943"
   ]
  }
 ],
 "metadata": {
  "kernelspec": {
   "display_name": "Python 3",
   "language": "python",
   "name": "python3"
  },
  "language_info": {
   "codemirror_mode": {
    "name": "ipython",
    "version": 3
   },
   "file_extension": ".py",
   "mimetype": "text/x-python",
   "name": "python",
   "nbconvert_exporter": "python",
   "pygments_lexer": "ipython3",
   "version": "3.6.1"
  }
 },
 "nbformat": 4,
 "nbformat_minor": 2
}
